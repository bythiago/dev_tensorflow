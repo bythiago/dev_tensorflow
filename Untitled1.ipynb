{
  "nbformat": 4,
  "nbformat_minor": 0,
  "metadata": {
    "colab": {
      "provenance": [],
      "authorship_tag": "ABX9TyNUztWvPDCLHuclaHidTJf0",
      "include_colab_link": true
    },
    "kernelspec": {
      "name": "python3",
      "display_name": "Python 3"
    },
    "language_info": {
      "name": "python"
    }
  },
  "cells": [
    {
      "cell_type": "markdown",
      "metadata": {
        "id": "view-in-github",
        "colab_type": "text"
      },
      "source": [
        "<a href=\"https://colab.research.google.com/github/bythiago/dev_tensorflow/blob/develop/Untitled1.ipynb\" target=\"_parent\"><img src=\"https://colab.research.google.com/assets/colab-badge.svg\" alt=\"Open In Colab\"/></a>"
      ]
    },
    {
      "cell_type": "code",
      "execution_count": 193,
      "metadata": {
        "colab": {
          "base_uri": "https://localhost:8080/"
        },
        "id": "FBdJoKJsmJbE",
        "outputId": "f8c20167-e1fd-4884-9faf-6cbf0720d097"
      },
      "outputs": [
        {
          "output_type": "stream",
          "name": "stdout",
          "text": [
            "Reading package lists... Done\n",
            "Building dependency tree... Done\n",
            "Reading state information... Done\n",
            "tesseract-ocr is already the newest version (4.1.1-2.1build1).\n",
            "0 upgraded, 0 newly installed, 0 to remove and 8 not upgraded.\n",
            "684795\n",
            "\f\n"
          ]
        }
      ],
      "source": [
        "# !pip install pytesseract\n",
        "!sudo apt install tesseract-ocr\n",
        "\n",
        "import cv2\n",
        "import pytesseract\n",
        "\n",
        "image = cv2.imread('/content/th-3910975326.jpg')\n",
        "\n",
        "license_plate = cv2.cvtColor(image, cv2.COLOR_BGR2HSV)\n",
        "\n",
        "license_plate = cv2.bilateralFilter(license_plate, 11, 17, 17)\n",
        "(thresh, license_plate) = cv2.threshold(\n",
        "    license_plate, 150, 180, cv2.THRESH_BINARY)\n",
        "\n",
        "# custom_config = r'--oem 3 --psm 3'\n",
        "custom_config = r'-l eng --oem 3 --psm 10 -c tessedit_char_whitelist=ABCDEFGHIJKLMNOPQRSTUVWXYZ0123456789'\n",
        "\n",
        "text = pytesseract.image_to_string(license_plate, lang='Mandatory', config=custom_config)\n",
        "\n",
        "print(text)"
      ]
    }
  ]
}